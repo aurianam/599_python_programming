{
 "cells": [
  {
   "cell_type": "code",
   "execution_count": null,
   "id": "86b919b4",
   "metadata": {},
   "outputs": [],
   "source": [
    "def area(raduis:)\n",
    "    "
   ]
  },
  {
   "cell_type": "code",
   "execution_count": null,
   "id": "b89dbb03",
   "metadata": {},
   "outputs": [],
   "source": []
  }
 ],
 "metadata": {
  "language_info": {
   "name": "python"
  }
 },
 "nbformat": 4,
 "nbformat_minor": 5
}
