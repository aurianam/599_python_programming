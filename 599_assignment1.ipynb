{
 "cells": [
  {
   "cell_type": "code",
   "execution_count": 2,
   "id": "86b919b4",
   "metadata": {},
   "outputs": [],
   "source": [
    "import math"
   ]
  },
  {
   "cell_type": "markdown",
   "id": "59b1e7d2",
   "metadata": {},
   "source": [
    "i was taking notes as i watched the vidoes so i didnt do all of the practice problems exactly. im going to write some code using the things i took notes on in the video and try to make something that runs!! "
   ]
  },
  {
   "cell_type": "code",
   "execution_count": 1,
   "id": "b89dbb03",
   "metadata": {
    "tags": [
     "parameters"
    ]
   },
   "outputs": [
    {
     "name": "stdout",
     "output_type": "stream",
     "text": [
      "78.53981633974483\n"
     ]
    }
   ],
   "source": [
    "import math\n",
    "def area(radius):\n",
    "    area=radius**2*math.pi\n",
    "    print(area)\n",
    "\n",
    "area(5)\n"
   ]
  },
  {
   "cell_type": "code",
   "execution_count": null,
   "id": "b08f9e6d",
   "metadata": {},
   "outputs": [
    {
     "name": "stdout",
     "output_type": "stream",
     "text": [
      "We offer the following sizes in ounces: 16, 20, 24, 32\n"
     ]
    }
   ],
   "source": [
    "#write a loop that tells a customer all the sizes of coffee offered (sizes should be from 16 to 32 inclusive, but not including 28)\n",
    "#i have never been to a coffee shop that had 28 ounces so i thought i would try to make it realistic using things from your videos!\n",
    "\n",
    "##ps- yes i know this would have been doable in 2 seconds with a list but i wanted to challenge myself... \n",
    "\n",
    "print(\"We offer the following sizes in ounces: \", end='')\n",
    "\n",
    "for i in range(16, 32, 4):\n",
    "    if i==28:\n",
    "        print(\"\", end= \"\")\n",
    "    else:\n",
    "        print(i, end= \", \")\n",
    "print(i+4)\n",
    "\n"
   ]
  }
 ],
 "metadata": {
  "kernelspec": {
   "display_name": "base",
   "language": "python",
   "name": "python3"
  },
  "language_info": {
   "codemirror_mode": {
    "name": "ipython",
    "version": 3
   },
   "file_extension": ".py",
   "mimetype": "text/x-python",
   "name": "python",
   "nbconvert_exporter": "python",
   "pygments_lexer": "ipython3",
   "version": "3.12.5"
  }
 },
 "nbformat": 4,
 "nbformat_minor": 5
}
