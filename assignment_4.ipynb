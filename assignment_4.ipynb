{
 "cells": [
  {
   "cell_type": "code",
   "execution_count": 35,
   "id": "d185f54c",
   "metadata": {},
   "outputs": [
    {
     "name": "stdout",
     "output_type": "stream",
     "text": [
      "Patient_ID: 0 Patient_Name: Jane Doe Patient DOB: 01/01/2000 Measurements: {}\n",
      "Patient_ID: 1 Patient_Name: John Paul Patient DOB: 3/10/1970 Measurements: Transfer Patient\n"
     ]
    }
   ],
   "source": [
    "class Patient: \n",
    "    num_patients = 0 \n",
    "\n",
    "    def __init__(self, name, DOB, measurements = None):\n",
    "        self.pid = Patient.num_patients\n",
    "        Patient.num_patients += 1\n",
    "        self.name= name\n",
    "        self.DOB = DOB\n",
    "\n",
    "        if measurements is None:\n",
    "            measurements = {}\n",
    "    \n",
    "        self.measurements = measurements\n",
    "\n",
    "    def __str__(self):\n",
    "        return f'Patient_ID: {self.pid} Patient_Name: {self.name} Patient DOB: {self.DOB} Measurements: {self.measurements}'\n",
    "\n",
    "Patient1= Patient(\"Jane Doe\", \"01/01/2000\")\n",
    "Patient2= Patient(\"John Paul\", \"3/10/1970\", \"Transfer Patient\")\n",
    "for patients in [Patient1, Patient2]:\n",
    "    print(patients)"
   ]
  }
 ],
 "metadata": {
  "kernelspec": {
   "display_name": "base",
   "language": "python",
   "name": "python3"
  },
  "language_info": {
   "codemirror_mode": {
    "name": "ipython",
    "version": 3
   },
   "file_extension": ".py",
   "mimetype": "text/x-python",
   "name": "python",
   "nbconvert_exporter": "python",
   "pygments_lexer": "ipython3",
   "version": "3.12.5"
  }
 },
 "nbformat": 4,
 "nbformat_minor": 5
}
